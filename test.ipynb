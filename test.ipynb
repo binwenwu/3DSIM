{
 "cells": [
  {
   "cell_type": "code",
   "execution_count": 3,
   "metadata": {},
   "outputs": [],
   "source": [
    "import os\n",
    "import sys\n",
    "import time\n",
    "import numpy as np\n",
    "import laspy\n",
    "import xarray as xr\n",
    "import cartopy.crs as ccrs\n",
    "import numpy as np\n",
    "import matplotlib.pyplot as plt\n",
    "from netCDF4 import Dataset\n",
    "from pyproj import CRS\n",
    "from osgeo import gdal\n",
    "import netCDF4 as nc\n",
    "from laspy.file import File\n",
    "from laspy.header import LasHeader\n",
    "# sys.path.append(\"..\")\n",
    "from parser.parser_3dtiles.parser_3dtiles import Parser3DTiles\n",
    "from tools.query import Query"
   ]
  },
  {
   "cell_type": "markdown",
   "metadata": {},
   "source": [
    "## 1 ten thousand facts per addition"
   ]
  },
  {
   "cell_type": "code",
   "execution_count": 3,
   "metadata": {},
   "outputs": [],
   "source": [
    "p3d = Parser3DTiles()\n",
    "testPath = \"/home/ydy/3dsim/DA1_3D_Buildings/DA1_3D_Buildings_Merged.json\"\n",
    "p3d.add_data(testPath,featureType='Building',createTime='20230116', validTime=['19950923', '20050101'])\n",
    "p3d1 = Parser3DTiles()\n",
    "testPath1 = \"/home/ydy/3dsim/DA6-10_3D_Buildings/tileset.json\"\n",
    "p3d1.add_data(testPath1,featureType='Building',createTime='20230116', validTime=['19950923', '20050101'])\n",
    "p3d2 = Parser3DTiles()\n",
    "testPath2 = \"/home/ydy/3dsim/DA20_3D_Buildings/tileset.json\"\n",
    "p3d2.add_data(testPath2,featureType='Building',createTime='20230116', validTime=['19950923', '20050101'])\n",
    "p3d3 = Parser3DTiles()\n",
    "testPath3 = \"/home/ydy/3dsim/DA5_3D_Buildings/tileset.json\"\n",
    "p3d3.add_data(testPath3,featureType='Building',createTime='20230116', validTime=['19950923', '20050101'])\n",
    "p3d4 = Parser3DTiles()\n",
    "testPath4 = \"/home/ydy/3dsim/DA16_3D_Buildings/tileset.json\"\n",
    "p3d4.add_data(testPath4,featureType='Building',createTime='20230116', validTime=['19950923', '20050101'])\n",
    "p3d5 = Parser3DTiles()\n",
    "testPath5 = \"/home/ydy/3dsim/DA5_3D_Buildings/tileset.json\"\n",
    "p3d5.add_data(testPath5,featureType='Building',createTime='20230116', validTime=['19950923', '20050101'])"
   ]
  },
  {
   "cell_type": "markdown",
   "metadata": {},
   "source": [
    "## 2 20 queries per performance test"
   ]
  },
  {
   "cell_type": "code",
   "execution_count": 4,
   "metadata": {},
   "outputs": [],
   "source": [
    "for i in range(20):\n",
    "    ix = 4\n",
    "    query  = Query()\n",
    "    result = query.query_rootSceneAsset()\n",
    "    print(\"size of root scene: \", len(result))\n",
    "    # print(result[ix])\n",
    "    p3d = Parser3DTiles()\n",
    "    start_time = time.time()\n",
    "    p3d.save_data_to3dtiles(sceneAsset=result[ix], path='./tileset.json',query=query)\n",
    "    end_time = time.time()\n",
    "    execution_time_ms = (end_time - start_time) * 1000\n",
    "    print(f\"代码执行时间：{execution_time_ms:.2f}毫秒\")"
   ]
  },
  {
   "cell_type": "markdown",
   "metadata": {},
   "source": [
    "## 3 三维点云解析"
   ]
  },
  {
   "cell_type": "code",
   "execution_count": 6,
   "metadata": {},
   "outputs": [],
   "source": [
    "las = laspy.read(\"/home/program/3dsim/data/pointcloud/building_01.las\")"
   ]
  },
  {
   "cell_type": "markdown",
   "metadata": {},
   "source": [
    "### 3.1 点云坐标变换"
   ]
  },
  {
   "cell_type": "code",
   "execution_count": 5,
   "metadata": {},
   "outputs": [],
   "source": [
    "# 读取Laz点云文件\n",
    "input_laz_file = \"/home/program/3dsim/data/pointcloud/building_01.las\"\n",
    "output_laz_file = \"/home/program/3dsim/data/pointcloud/output.las\"\n",
    "\n",
    "# 读取点云数据\n",
    "las = laspy.read(input_laz_file)\n",
    "\n",
    "# 获取点云数据\n",
    "xyz = np.vstack((las.x, las.y, las.z)).T\n",
    "rgb = np.vstack((las.red, las.green, las.blue)).T\n",
    "\n",
    "\n",
    "\"\"\"\n",
    "@description: 这段代码定义了一个名为 `transform2world` 的变换矩阵，并将其应用到点云数据中。变换矩阵是一个 4x4 的矩阵，用于将点云从局部坐标系转换到世界坐标系。\n",
    "\n",
    "具体来说，这个变换矩阵将点云的 X、Y、Z 坐标分别乘以一个缩放因子 `0.000008998719243599958`,\n",
    "然后将点云沿 X 轴平移 `103.778333`，沿 Y 轴平移 `1.284444`。     \n",
    "最后，变换矩阵的第四行和第四列都是 `[0, 0, 0, 1]`，表示不对点云进行旋转和投影变换。\n",
    "\"\"\"\n",
    "# 定义变换矩阵\n",
    "transform2world = np.array([\n",
    "    [0.000008998719243599958, 0.0, 0.0, 103.778333],\n",
    "    [0.0, 0.000008998719243599958, 0.0, 1.284444],\n",
    "    [0.0, 0.0, 1.0, 0.0],\n",
    "    [0.0, 0.0, 0.0, 1.0]\n",
    "])\n",
    "\n",
    "# 应用变换矩阵到点云数据\n",
    "transformed_xyz = np.dot(xyz, transform2world[:3, :3].T) + transform2world[:3, 3]\n",
    "\n",
    "# 创建新的Laz文件并保存点云\n",
    "header = LasHeader(point_format=2, version=\"1.2\")\n",
    "\n",
    "# TODO laspy 2.0\n",
    "#header = laspy.create(point_format=2, file_version='1.2')\n",
    "\n",
    "\n",
    "header.offset = [0.0, 0.0, 0.0]  # 根据实际情况设置正确的偏移\n",
    "header.scale = [0.01, 0.01, 0.01]  # 根据实际情况设置正确的比例\n",
    "\n",
    "\n",
    "out_las = File(output_laz_file, mode=\"w\", header=header)\n",
    "# TODO laspy 2.0\n",
    "#las.write(output_laz_file)\n",
    "\n",
    "out_las.x = transformed_xyz[:, 0]\n",
    "out_las.y = transformed_xyz[:, 1]\n",
    "out_las.z = transformed_xyz[:, 2]\n",
    "out_las.red = rgb[:, 0]\n",
    "out_las.green = rgb[:, 1]\n",
    "out_las.blue = rgb[:, 2]\n",
    "\n",
    "# 关闭输入和输出laz文件\n",
    "las.close()\n",
    "out_las.close()"
   ]
  },
  {
   "cell_type": "markdown",
   "metadata": {},
   "source": [
    "## 4 三维物理场数据解析"
   ]
  },
  {
   "cell_type": "code",
   "execution_count": 34,
   "metadata": {},
   "outputs": [
    {
     "name": "stdout",
     "output_type": "stream",
     "text": [
      "\n",
      "nc文件的概况:\n",
      "<xarray.Dataset> Size: 1kB\n",
      "Dimensions:  (time: 1, level: 4, lat: 5, lon: 10)\n",
      "Coordinates:\n",
      "  * lat      (lat) int32 20B 20 30 40 50 60\n",
      "  * lon      (lon) int32 40B -160 -140 -118 -96 -84 -52 -45 -35 -25 -15\n",
      "  * level    (level) int32 16B 1000 850 700 500\n",
      "  * time     (time) datetime64[ns] 8B 1996-01-01T12:00:00\n",
      "Data variables:\n",
      "    temp     (time, level, lat, lon) float32 800B ...\n",
      "    rh       (time, lat, lon) float32 200B ...\n",
      "Attributes:\n",
      "    source:   Fictional Model Output\n",
      "\n",
      "nc文件中的变量:\n",
      "KeysView(Frozen({'temp': <xarray.Variable (time: 1, level: 4, lat: 5, lon: 10)> Size: 800B\n",
      "[200 values with dtype=float32]\n",
      "Attributes:\n",
      "    long_name:  temperature\n",
      "    units:      celsius, 'rh': <xarray.Variable (time: 1, lat: 5, lon: 10)> Size: 200B\n",
      "[50 values with dtype=float32]\n",
      "Attributes:\n",
      "    long_name:    relative humidity\n",
      "    valid_range:  [0. 1.], 'lat': <xarray.IndexVariable 'lat' (lat: 5)> Size: 20B\n",
      "array([20, 30, 40, 50, 60], dtype=int32)\n",
      "Attributes:\n",
      "    units:    degrees_north, 'lon': <xarray.IndexVariable 'lon' (lon: 10)> Size: 40B\n",
      "array([-160, -140, -118,  -96,  -84,  -52,  -45,  -35,  -25,  -15], dtype=int32)\n",
      "Attributes:\n",
      "    units:    degrees_east, 'level': <xarray.IndexVariable 'level' (level: 4)> Size: 16B\n",
      "array([1000,  850,  700,  500], dtype=int32)\n",
      "Attributes:\n",
      "    units:    millibars, 'time': <xarray.IndexVariable 'time' (time: 1)> Size: 8B\n",
      "array(['1996-01-01T12:00:00.000000000'], dtype='datetime64[ns]')}))\n"
     ]
    }
   ],
   "source": [
    "def parser_physicalfield_v1():\n",
    "    data=xr.open_dataset('/home/program/3dsim/data/physicalfield/example_1.nc')\n",
    "    print(\"\\nnc文件的概况:\")\n",
    "    print(data)\n",
    "    print(\"\\nnc文件中的变量:\")\n",
    "    lat_values = data.variables.keys()\n",
    "    print(lat_values)\n",
    "\n",
    "def parser_physicalfield_v2():\n",
    "    nc_dataset = Dataset('/home/program/3dsim/data/physicalfield/example_1.nc', 'r')\n",
    "    print(\"\\nnc版本:\")\n",
    "    print(nc_dataset.data_model)\n",
    "    print(\"\\nnc文件中包含的变量:\")\n",
    "    print(nc_dataset.variables.keys())\n",
    "    print(\"\\nnc文件中包含的属性:\")\n",
    "    print(nc_dataset.ncattrs())\n",
    "\n",
    "    lon = nc_dataset['longitude'][:]\n",
    "    lat = nc_dataset['latitude'][:]\n",
    "    x_min, x_max = lon.min(), lon.max()\n",
    "    y_min, y_max = lat.min(), lat.max()\n",
    "\n",
    "\n",
    "parser_physicalfield_v1()"
   ]
  },
  {
   "cell_type": "markdown",
   "metadata": {},
   "source": [
    "### 4.1 地理坐标系下的ERA5再分析数据"
   ]
  },
  {
   "cell_type": "code",
   "execution_count": 14,
   "metadata": {},
   "outputs": [],
   "source": [
    "in_path = r\"/home/program/3dsim/data/physicalfield/test1.nc\"\n",
    "out_path = r\"/home/program/3dsim/data/physicalfield/test1.tif\"\n",
    "\n",
    "# 获取分辨率和左上角像素坐标值\n",
    "rootgrp = nc.Dataset(in_path)\n",
    "lon = rootgrp['longitude'][...].data\n",
    "lat = rootgrp['latitude'][...].data\n",
    "x_min, y_max = lon.min(), lat.max()\n",
    "x_res, y_res = abs(float(lon[1]-lon[0])), abs(float(lat[1]-lat[0]))\n",
    "\n",
    "# 仿射变换六参数\n",
    "gt = (x_min, x_res, 0, y_max, 0, -y_res)\n",
    "\n",
    "# 获取地理坐标系\n",
    "crs = CRS.from_epsg(4326)\n",
    "wkt = crs.to_wkt()\n",
    "\n",
    "# 读取数据\n",
    "r = rootgrp['r']\n",
    "nodata = int(r._FillValue)\n",
    "r = r[...].filled(nodata)\n",
    "\n",
    "# 计算月平均相对湿度\n",
    "r = r.mean(axis=0).astype(np.int32)\n",
    "\n",
    "# 创建GeoTIFF文件并写入数据\n",
    "driver = gdal.GetDriverByName('GTiff')\n",
    "ds = driver.Create(out_path, r.shape[1], r.shape[0], 1, \n",
    "                gdal.GDT_Int32, options=[\"COMPRESS=LZW\"])\n",
    "ds.SetGeoTransform(gt)\n",
    "ds.SetProjection(wkt)\n",
    "band = ds.GetRasterBand(1)\n",
    "band.WriteArray(r)\n",
    "band.SetNoDataValue(nodata)\n",
    "\n",
    "ds = band = None"
   ]
  },
  {
   "cell_type": "markdown",
   "metadata": {},
   "source": [
    "### 4.2 投影坐标系下的反演数据"
   ]
  },
  {
   "cell_type": "code",
   "execution_count": 5,
   "metadata": {},
   "outputs": [],
   "source": [
    "in_path = r\"/home/program/3dsim/data/physicalfield/test2.nc\"\n",
    "out_path = r\"/home/program/3dsim/data/physicalfield/test2.tif\"\n",
    "\n",
    "# 获取分辨率和左上角像素坐标值\n",
    "rootgrp = nc.Dataset(in_path)\n",
    "lon = rootgrp['x'][...].data\n",
    "lat = rootgrp['y'][...].data\n",
    "x_min, y_max = lon.min(), lat.max()\n",
    "x_res, y_res = abs(float(lon[1]-lon[0])), abs(float(lat[1]-lat[0]))\n",
    "\n",
    "# 仿射变换六参数\n",
    "gt = (x_min, x_res, 0, y_max, 0, -y_res)\n",
    "\n",
    "# 获取地理坐标系\n",
    "gr = rootgrp['polar_stereographic']\n",
    "wkt = gr.crs_wkt\n",
    "\n",
    "# 读取数据\n",
    "PFR = rootgrp['PFR']\n",
    "nodata = int(PFR._FillValue)\n",
    "PFR = PFR[0, ...].filled(nodata)\n",
    "\n",
    "# 创建GeoTIFF文件并写入数据\n",
    "driver = gdal.GetDriverByName('GTiff')\n",
    "ds = driver.Create(out_path, PFR.shape[1], PFR.shape[0], 1, \n",
    "                gdal.GDT_Int16, options=[\"COMPRESS=LZW\"])\n",
    "ds.SetGeoTransform(gt)\n",
    "ds.SetProjection(wkt)\n",
    "band = ds.GetRasterBand(1)\n",
    "band.WriteArray(PFR)\n",
    "band.SetNoDataValue(nodata)\n",
    "\n",
    "ds = band = None"
   ]
  }
 ],
 "metadata": {
  "kernelspec": {
   "display_name": "3dsim",
   "language": "python",
   "name": "python3"
  },
  "language_info": {
   "codemirror_mode": {
    "name": "ipython",
    "version": 3
   },
   "file_extension": ".py",
   "mimetype": "text/x-python",
   "name": "python",
   "nbconvert_exporter": "python",
   "pygments_lexer": "ipython3",
   "version": "3.11.0"
  }
 },
 "nbformat": 4,
 "nbformat_minor": 2
}
