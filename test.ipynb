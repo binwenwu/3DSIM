{
 "cells": [
  {
   "cell_type": "code",
   "execution_count": 1,
   "metadata": {},
   "outputs": [],
   "source": [
    "import os\n",
    "import sys\n",
    "import time\n",
    "import numpy as np\n",
    "import laspy\n",
    "import xarray as xr\n",
    "import cartopy.crs as ccrs\n",
    "import numpy as np\n",
    "import matplotlib.pyplot as plt\n",
    "from netCDF4 import Dataset\n",
    "from pyproj import CRS\n",
    "from osgeo import gdal\n",
    "import netCDF4 as nc\n",
    "from laspy.file import File\n",
    "from laspy.header import LasHeader\n",
    "from bson import ObjectId\n",
    "# sys.path.append(\"..\")\n",
    "from parser.parser_3dtiles.parser_3dtiles import Parser3DTiles\n",
    "from parser.parser_relief import ParserRelief\n",
    "from parser.parser_physicalfield import ParserPhysicalField\n",
    "from parser.parser_pointcloud import ParserPointcloud\n",
    "from data_operations.query import Query\n",
    "from data_operations.remove import Remove\n",
    "from data_operations.update import Update\n",
    "from pathlib import Path\n",
    "from py3dtiles.tileset.tileset import TileSet\n",
    "from pyhdf.SD import SD, SDC\n",
    "import pprint\n",
    "import h5py\n",
    "import pandas as pd\n",
    "import rasterio\n",
    "from rasterio.warp import calculate_default_transform, reproject, Resampling\n",
    "import gdal2tiles\n",
    "from osgeo import gdal"
   ]
  },
  {
   "cell_type": "markdown",
   "metadata": {},
   "source": [
    "## 0 数据入库"
   ]
  },
  {
   "cell_type": "code",
   "execution_count": 2,
   "metadata": {},
   "outputs": [
    {
     "name": "stdout",
     "output_type": "stream",
     "text": [
      "database \"3dsim\" already exists\n",
      "\n",
      "Test: PostgreSQL available\n",
      "PGSQL Connected\n",
      "Connection pool size:  5\n",
      "## SpatialDimension table exists\n",
      "## TimeDimension table exists\n",
      "## FeatureDimension table exists\n",
      "## prodcution table exists\n",
      "## viewpoint table exists\n",
      "MongoDB Database '3dsim' created successfully!\n",
      "MongoDB available!\n",
      "\n",
      "Connected to MinIO successfully!\n",
      "MinIO available!\n",
      "## the 3d tile inserting ...\n",
      "File 'public/3dtiles/白膜-武汉建筑/tileset.json' uploaded to '3dsim'\n",
      "File 'public/3dtiles/白膜-武汉建筑/scenetree.json' uploaded to '3dsim'\n",
      "File 'public/3dtiles/白膜-武汉建筑/NoLod_4.cmpt' uploaded to '3dsim'\n",
      "File 'public/3dtiles/白膜-武汉建筑/NoLod_3.b3dm' uploaded to '3dsim'\n",
      "File 'public/3dtiles/白膜-武汉建筑/NoLod_2.b3dm' uploaded to '3dsim'\n",
      "File 'public/3dtiles/白膜-武汉建筑/NoLod_1.cmpt' uploaded to '3dsim'\n",
      "File 'public/3dtiles/白膜-武汉建筑/NoLod_0.b3dm' uploaded to '3dsim'\n",
      "File 'public/3dtiles/白膜-武汉建筑/tileset_3dsim.json' uploaded to '3dsim'\n",
      "Folder '/home/program/3dsim/data/3dtiles/白膜-武汉建筑' uploaded to '3dsim'\n",
      "Viewpoint level not found for distance: 4058796.6984990095 Returning the last level: 17\n",
      "Viewpoint level not found for distance: 4058796.6984990095 Returning the last level: 17\n",
      "## the 3d tile inserted\n",
      "Code execution time:1618.46ms\n"
     ]
    }
   ],
   "source": [
    "def upload():\n",
    "\n",
    "    pid = os.getpid() # 获取当前进程的进程ID（Process ID）\n",
    "    available_cores = [i for i in range(os.cpu_count()) if i != 0] # 获取除了第一个CPU核心外的所有CPU核心编号\n",
    "    os.sched_setaffinity(pid, available_cores) # 设置进程的CPU亲和性, 将进程绑定到除了第一个核心以外的所有可用核心, 以实现多核并行处理\n",
    "\n",
    "    # 1 for add 3d tiles\n",
    "    # 2 for add raster relief\n",
    "    # 3 for add physical field\n",
    "    # 4 for add point cloud\n",
    "    mode = 1\n",
    "    if mode == 1:\n",
    "        p3d = Parser3DTiles()\n",
    "        # _3dtilesPath = \"/home/program/3dsim/data/3dtiles/New-York-Manhattan-Buildings-3D-Tiles-WGS84-Quadtree-Level-14/tileset.json\"\n",
    "        # _3dtilesPath = \"/home/program/3dsim/data/3dtiles/DA16_3D_Buildings/tileset.json\"\n",
    "        _3dtilesPath = \"/home/program/3dsim/data/3dtiles/白膜-武汉建筑/tileset.json\"\n",
    "        p3d.add_data(_3dtilesPath,featureType='Building',createTime='20230116', validTime=['19950923', '20050101'])\n",
    "    if mode == 2:\n",
    "        pr = ParserRelief()\n",
    "        testPath = \"/home/program/3dsim/data/rasterrelief/DTM_e36n31_TINRelief_4326.tif\"\n",
    "        pr.add_data(mimeType = 'GEOTIFF', path = testPath,createTime='20240226', validTime=['19950923', '20050101'])\n",
    "    if mode == 3:\n",
    "        ppf = ParserPhysicalField()\n",
    "        hdfPath = \"/home/program/3dsim/data/physicalfield/NPP_MOFTS_L1.A2024051.0124.001.2024051072405.hdf\"\n",
    "        ppf.add_data(mimeType = 'HDF', path = hdfPath,createTime='20240226', validTime=['19950923', '20050101'])\n",
    "        netcdfPath = \"/home/program/3dsim/data/physicalfield/example_1.nc\"\n",
    "        ppf.add_data(mimeType = 'NETCDF', path = netcdfPath,createTime='20240226', validTime=['19950923', '20050101'])\n",
    "    if mode == 4:\n",
    "        ppc = ParserPointcloud()\n",
    "        lasPath = \"/home/program/3dsim/data/pointcloud/building_01.las\"\n",
    "        ppc.add_data(mimeType = 'LAS', path = lasPath, createTime='20240226', validTime=['19950923', '20050101'])\n",
    "        lazPath = \"/home/program/3dsim/data/pointcloud/building_02.laz\"\n",
    "        ppc.add_data(mimeType = 'LAZ', path = lazPath, createTime='20240226', validTime=['19950923', '20050101'])\n",
    "        xyzPath = \"/home/program/3dsim/data/pointcloud/fake.xyz\"\n",
    "        ppc.add_data(mimeType = 'XYZ', path = xyzPath, createTime='20240226', validTime=['19950923', '20050101'])\n",
    "    pass\n",
    "\n",
    "\n",
    "start_time = time.time()\n",
    "upload()\n",
    "end_time = time.time()\n",
    "execution_time_ms = (end_time - start_time) * 1000\n",
    "print(f\"Code execution time:{execution_time_ms:.2f}ms\")"
   ]
  },
  {
   "cell_type": "markdown",
   "metadata": {},
   "source": [
    "## 1 3DTiles"
   ]
  },
  {
   "cell_type": "markdown",
   "metadata": {},
   "source": [
    "### 1.1 添加一万个3DTiles"
   ]
  },
  {
   "cell_type": "code",
   "execution_count": null,
   "metadata": {},
   "outputs": [],
   "source": [
    "p3d = Parser3DTiles()\n",
    "testPath = \"/home/ydy/3dsim/DA1_3D_Buildings/DA1_3D_Buildings_Merged.json\"\n",
    "p3d.add_data(testPath,featureType='Building',createTime='20230116', validTime=['19950923', '20050101'])\n",
    "p3d1 = Parser3DTiles()\n",
    "testPath1 = \"/home/ydy/3dsim/DA6-10_3D_Buildings/tileset.json\"\n",
    "p3d1.add_data(testPath1,featureType='Building',createTime='20230116', validTime=['19950923', '20050101'])\n",
    "p3d2 = Parser3DTiles()\n",
    "testPath2 = \"/home/ydy/3dsim/DA20_3D_Buildings/tileset.json\"\n",
    "p3d2.add_data(testPath2,featureType='Building',createTime='20230116', validTime=['19950923', '20050101'])\n",
    "p3d3 = Parser3DTiles()\n",
    "testPath3 = \"/home/ydy/3dsim/DA5_3D_Buildings/tileset.json\"\n",
    "p3d3.add_data(testPath3,featureType='Building',createTime='20230116', validTime=['19950923', '20050101'])\n",
    "p3d4 = Parser3DTiles()\n",
    "testPath4 = \"/home/ydy/3dsim/DA16_3D_Buildings/tileset.json\"\n",
    "p3d4.add_data(testPath4,featureType='Building',createTime='20230116', validTime=['19950923', '20050101'])\n",
    "p3d5 = Parser3DTiles()\n",
    "testPath5 = \"/home/ydy/3dsim/DA5_3D_Buildings/tileset.json\"\n",
    "p3d5.add_data(testPath5,featureType='Building',createTime='20230116', validTime=['19950923', '20050101'])"
   ]
  },
  {
   "cell_type": "markdown",
   "metadata": {},
   "source": [
    "### 1.2 3DTiles 查询测试"
   ]
  },
  {
   "cell_type": "code",
   "execution_count": null,
   "metadata": {},
   "outputs": [],
   "source": [
    "p3d = Parser3DTiles()\n",
    "query = Query()\n",
    "\n",
    "result = p3d.query_scene(product=['3DTiles','CityGML','OSG', 'I3S'], \n",
    "                             spatialExtent = [-180, -90, 180, 90],\n",
    "                             timeSpan=['19000101', '20990101'], \n",
    "                             feature= ['Building'], viewedRange= [0,9999999],isRoot=True,query=query)\n",
    "\n",
    "print(result)\n",
    "print(\"size of root scene: \", len(result))\n",
    "\n",
    "start_time = time.time()\n",
    "# 将第一个结果保存为3dtiles\n",
    "# p3d.save_data_to3dtiles(sceneAsset=result[0], path='./tileset.json',query=query)\n",
    "end_time = time.time()\n",
    "execution_time_ms = (end_time - start_time) * 1000\n",
    "print(f\"代码执行时间：{execution_time_ms:.2f}毫秒\")"
   ]
  },
  {
   "cell_type": "markdown",
   "metadata": {},
   "source": [
    "### 1.3 3DTiles 更新测试"
   ]
  },
  {
   "cell_type": "code",
   "execution_count": null,
   "metadata": {},
   "outputs": [],
   "source": [
    "update = Update()\n",
    "_update_data = {\n",
    "    \"productDimension\": \"102\"\n",
    "}\n",
    "update_result = update.update_sceneAsset(scene_id=ObjectId(\"65dfede6851ccfe2824d8b52\"),update_data=_update_data)"
   ]
  },
  {
   "cell_type": "markdown",
   "metadata": {},
   "source": [
    "### 1.4 3DTiles 删除测试"
   ]
  },
  {
   "cell_type": "code",
   "execution_count": null,
   "metadata": {},
   "outputs": [],
   "source": [
    "remove = Remove()\n",
    "query = Query()\n",
    "p3d = Parser3DTiles()\n",
    "results = p3d.query_scene(product=['3DTiles','CityGML','OSG', 'I3S'], \n",
    "                             spatialExtent = [-180, -90, 180, 90],\n",
    "                             timeSpan=['19000101', '20990101'], \n",
    "                             feature= ['Building'], viewedRange= [0,9999999],isRoot=True,query=query)\n",
    "\n",
    "print(\"size of root scene: \", len(results))\n",
    "\n",
    "for result in results:\n",
    "    p3d.remove_scene(scene_id=result['_id'],query=query,remove=remove)"
   ]
  },
  {
   "cell_type": "markdown",
   "metadata": {},
   "source": [
    "## 2 Mesh"
   ]
  },
  {
   "cell_type": "code",
   "execution_count": null,
   "metadata": {},
   "outputs": [],
   "source": [
    "# TODO"
   ]
  },
  {
   "cell_type": "markdown",
   "metadata": {},
   "source": [
    "## 3 三维点云"
   ]
  },
  {
   "cell_type": "markdown",
   "metadata": {},
   "source": [
    "### 3.1 las 解析"
   ]
  },
  {
   "cell_type": "code",
   "execution_count": null,
   "metadata": {},
   "outputs": [],
   "source": [
    "las = laspy.read(\"/home/program/3dsim/data/pointcloud/building_01.las\")\n",
    "x_min = las.header.x_min\n",
    "x_max = las.header.x_max\n",
    "y_min = las.header.y_min\n",
    "y_max = las.header.y_max\n",
    "z_min = las.header.z_min\n",
    "z_max = las.header.z_max\n",
    "print(x_min, x_max, y_min, y_max, z_min, z_max)"
   ]
  },
  {
   "cell_type": "markdown",
   "metadata": {},
   "source": [
    "### 3.2 laz 解析"
   ]
  },
  {
   "cell_type": "code",
   "execution_count": null,
   "metadata": {},
   "outputs": [],
   "source": [
    "laz = laspy.read(\"/home/program/3dsim/data/pointcloud/building_02.laz\")\n",
    "x_min = laz.header.x_min\n",
    "x_max = laz.header.x_max\n",
    "y_min = laz.header.y_min\n",
    "y_max = laz.header.y_max\n",
    "z_min = laz.header.z_min\n",
    "z_max = laz.header.z_max\n",
    "print(x_min, x_max, y_min, y_max, z_min, z_max)"
   ]
  },
  {
   "cell_type": "markdown",
   "metadata": {},
   "source": [
    "### 3.3 xyz 解析"
   ]
  },
  {
   "cell_type": "code",
   "execution_count": null,
   "metadata": {},
   "outputs": [],
   "source": [
    "\n",
    "with open(\"/home/program/3dsim/data/pointcloud/fake.xyz\", 'r') as file:\n",
    "    lines = file.readlines()\n",
    "    data = np.array([list(map(float, line.split())) for line in lines])\n",
    "\n",
    "def get_min_max_xyz(data):\n",
    "    min_xyz = np.min(data, axis=0)\n",
    "    max_xyz = np.max(data, axis=0)\n",
    "    return min_xyz, max_xyz\n",
    "\n",
    "min_xyz, max_xyz = get_min_max_xyz(data)\n",
    "\n",
    "print(\"最小值 (min_x, min_y, min_z):\", min_xyz)\n",
    "print(\"最大值 (max_x, max_y, max_z):\", max_xyz)\n"
   ]
  },
  {
   "cell_type": "markdown",
   "metadata": {},
   "source": [
    "### 3.4 点云坐标变换"
   ]
  },
  {
   "cell_type": "code",
   "execution_count": null,
   "metadata": {},
   "outputs": [],
   "source": [
    "# 读取Laz点云文件\n",
    "input_laz_file = \"/home/program/3dsim/data/pointcloud/building_01.las\"\n",
    "output_laz_file = \"/home/program/3dsim/data/pointcloud/output.las\"\n",
    "\n",
    "# 读取点云数据\n",
    "las = laspy.read(input_laz_file)\n",
    "\n",
    "# 获取点云数据\n",
    "xyz = np.vstack((las.x, las.y, las.z)).T\n",
    "rgb = np.vstack((las.red, las.green, las.blue)).T\n",
    "\n",
    "\n",
    "\"\"\"\n",
    "@description: 这段代码定义了一个名为 `transform2world` 的变换矩阵，并将其应用到点云数据中。变换矩阵是一个 4x4 的矩阵，用于将点云从局部坐标系转换到世界坐标系。\n",
    "\n",
    "具体来说，这个变换矩阵将点云的 X、Y、Z 坐标分别乘以一个缩放因子 `0.000008998719243599958`,\n",
    "然后将点云沿 X 轴平移 `103.778333`，沿 Y 轴平移 `1.284444`。     \n",
    "最后，变换矩阵的第四行和第四列都是 `[0, 0, 0, 1]`，表示不对点云进行旋转和投影变换。\n",
    "\"\"\"\n",
    "# 定义变换矩阵\n",
    "transform2world = np.array([\n",
    "    [0.000008998719243599958, 0.0, 0.0, 103.778333],\n",
    "    [0.0, 0.000008998719243599958, 0.0, 1.284444],\n",
    "    [0.0, 0.0, 1.0, 0.0],\n",
    "    [0.0, 0.0, 0.0, 1.0]\n",
    "])\n",
    "\n",
    "# 应用变换矩阵到点云数据\n",
    "transformed_xyz = np.dot(xyz, transform2world[:3, :3].T) + transform2world[:3, 3]\n",
    "\n",
    "# 创建新的Laz文件并保存点云\n",
    "header = LasHeader(point_format=2, version=\"1.2\")\n",
    "\n",
    "# TODO laspy 2.0\n",
    "#header = laspy.create(point_format=2, file_version='1.2')\n",
    "\n",
    "\n",
    "header.offset = [0.0, 0.0, 0.0]  # 根据实际情况设置正确的偏移\n",
    "header.scale = [0.01, 0.01, 0.01]  # 根据实际情况设置正确的比例\n",
    "\n",
    "\n",
    "out_las = File(output_laz_file, mode=\"w\", header=header)\n",
    "# TODO laspy 2.0\n",
    "#las.write(output_laz_file)\n",
    "\n",
    "out_las.x = transformed_xyz[:, 0]\n",
    "out_las.y = transformed_xyz[:, 1]\n",
    "out_las.z = transformed_xyz[:, 2]\n",
    "out_las.red = rgb[:, 0]\n",
    "out_las.green = rgb[:, 1]\n",
    "out_las.blue = rgb[:, 2]\n",
    "\n",
    "# 关闭输入和输出laz文件\n",
    "las.close()\n",
    "out_las.close()"
   ]
  },
  {
   "cell_type": "markdown",
   "metadata": {},
   "source": [
    "## 4 三维物理场数据解析"
   ]
  },
  {
   "cell_type": "code",
   "execution_count": null,
   "metadata": {},
   "outputs": [],
   "source": [
    "def parser_physicalfield_v1():\n",
    "    data=xr.open_dataset('/home/program/3dsim/data/physicalfield/example_1.nc')\n",
    "    print(\"\\nnc文件的概况:\")\n",
    "    print(data)\n",
    "    print(\"\\nnc文件中的变量:\")\n",
    "    lat_values = data.variables.keys()\n",
    "    print(lat_values)\n",
    "\n",
    "def parser_physicalfield_v2():\n",
    "    nc_dataset = Dataset('/home/program/3dsim/data/physicalfield/example_1.nc', 'r')\n",
    "    print(\"\\nnc版本:\")\n",
    "    print(nc_dataset.data_model)\n",
    "    print(\"\\nnc文件中包含的变量:\")\n",
    "    print(nc_dataset.variables.keys())\n",
    "    print(\"\\nnc文件中包含的属性:\")\n",
    "    print(nc_dataset.ncattrs())\n",
    "\n",
    "    lon = nc_dataset['longitude'][:]\n",
    "    lat = nc_dataset['latitude'][:]\n",
    "    x_min, x_max = lon.min(), lon.max()\n",
    "    y_min, y_max = lat.min(), lat.max()\n",
    "\n",
    "\n",
    "parser_physicalfield_v1()"
   ]
  },
  {
   "cell_type": "markdown",
   "metadata": {},
   "source": [
    "### 4.1 地理坐标系下的ERA5再分析数据"
   ]
  },
  {
   "cell_type": "code",
   "execution_count": null,
   "metadata": {},
   "outputs": [],
   "source": [
    "in_path = r\"/home/program/3dsim/data/physicalfield/test1.nc\"\n",
    "out_path = r\"/home/program/3dsim/data/physicalfield/test1.tif\"\n",
    "\n",
    "# 获取分辨率和左上角像素坐标值\n",
    "rootgrp = nc.Dataset(in_path)\n",
    "lon = rootgrp['longitude'][...].data\n",
    "lat = rootgrp['latitude'][...].data\n",
    "x_min, y_max = lon.min(), lat.max()\n",
    "x_res, y_res = abs(float(lon[1]-lon[0])), abs(float(lat[1]-lat[0]))\n",
    "\n",
    "# 仿射变换六参数\n",
    "gt = (x_min, x_res, 0, y_max, 0, -y_res)\n",
    "\n",
    "# 获取地理坐标系\n",
    "crs = CRS.from_epsg(4326)\n",
    "wkt = crs.to_wkt()\n",
    "\n",
    "# 读取数据\n",
    "r = rootgrp['r']\n",
    "nodata = int(r._FillValue)\n",
    "r = r[...].filled(nodata)\n",
    "\n",
    "# 计算月平均相对湿度\n",
    "r = r.mean(axis=0).astype(np.int32)\n",
    "\n",
    "# 创建GeoTIFF文件并写入数据\n",
    "driver = gdal.GetDriverByName('GTiff')\n",
    "ds = driver.Create(out_path, r.shape[1], r.shape[0], 1, \n",
    "                gdal.GDT_Int32, options=[\"COMPRESS=LZW\"])\n",
    "ds.SetGeoTransform(gt)\n",
    "ds.SetProjection(wkt)\n",
    "band = ds.GetRasterBand(1)\n",
    "band.WriteArray(r)\n",
    "band.SetNoDataValue(nodata)\n",
    "\n",
    "ds = band = None"
   ]
  },
  {
   "cell_type": "markdown",
   "metadata": {},
   "source": [
    "### 4.2 投影坐标系下的反演数据"
   ]
  },
  {
   "cell_type": "code",
   "execution_count": null,
   "metadata": {},
   "outputs": [],
   "source": [
    "in_path = r\"/home/program/3dsim/data/physicalfield/test2.nc\"\n",
    "out_path = r\"/home/program/3dsim/data/physicalfield/test2.tif\"\n",
    "\n",
    "# 获取分辨率和左上角像素坐标值\n",
    "rootgrp = nc.Dataset(in_path)\n",
    "lon = rootgrp['x'][...].data\n",
    "lat = rootgrp['y'][...].data\n",
    "x_min, y_max = lon.min(), lat.max()\n",
    "x_res, y_res = abs(float(lon[1]-lon[0])), abs(float(lat[1]-lat[0]))\n",
    "\n",
    "# 仿射变换六参数\n",
    "gt = (x_min, x_res, 0, y_max, 0, -y_res)\n",
    "\n",
    "# 获取地理坐标系\n",
    "gr = rootgrp['polar_stereographic']\n",
    "wkt = gr.crs_wkt\n",
    "\n",
    "# 读取数据\n",
    "PFR = rootgrp['PFR']\n",
    "nodata = int(PFR._FillValue)\n",
    "PFR = PFR[0, ...].filled(nodata)\n",
    "\n",
    "# 创建GeoTIFF文件并写入数据\n",
    "driver = gdal.GetDriverByName('GTiff')\n",
    "ds = driver.Create(out_path, PFR.shape[1], PFR.shape[0], 1, \n",
    "                gdal.GDT_Int16, options=[\"COMPRESS=LZW\"])\n",
    "ds.SetGeoTransform(gt)\n",
    "ds.SetProjection(wkt)\n",
    "band = ds.GetRasterBand(1)\n",
    "band.WriteArray(PFR)\n",
    "band.SetNoDataValue(nodata)\n",
    "\n",
    "ds = band = None"
   ]
  },
  {
   "cell_type": "markdown",
   "metadata": {},
   "source": [
    "### 4.3 HDF数据解析"
   ]
  },
  {
   "cell_type": "code",
   "execution_count": null,
   "metadata": {},
   "outputs": [],
   "source": [
    "#%% 读取HDF信息并提取数据 \n",
    "HDF_FILR_URL = r\"/home/program/3dsim/data/physicalfield/NPP_MOFTS_L1.A2024051.0124.001.2024051072405.hdf\"\n",
    "file = SD(HDF_FILR_URL)\n",
    " \n",
    "print(file.info())\n",
    "\n",
    "print(\"--------\")\n",
    "datasets_dic = file.datasets()\n",
    " \n",
    "for idx,sds in enumerate(datasets_dic.keys()):\n",
    "    print(idx,sds)\n",
    " \n",
    "print(\"--------\")\n",
    "lat = file.select('Latitude').get() \n",
    "lon = file.select('Longitude').get()\n",
    "height = file.select('Height').get()\n",
    "\n",
    "\n",
    "print(lat.max(),lat.min())\n",
    "print(lon.max(),lon.min())\n",
    "print(height.max(),height.min())\n"
   ]
  },
  {
   "cell_type": "markdown",
   "metadata": {},
   "source": [
    "## 5 py3dtiles 解析测试"
   ]
  },
  {
   "cell_type": "code",
   "execution_count": null,
   "metadata": {},
   "outputs": [],
   "source": [
    "tileset = TileSet.from_file(Path(\"/home/program/3dsim/data/3dtiles/WHU/tileset.json\"))\n",
    "\n",
    "all_tiles = (tileset.root_tile, *tileset.root_tile.get_all_children())\n",
    "for tile in all_tiles:\n",
    "    if not tile.has_content():\n",
    "        continue\n",
    "    tile_content = tile.get_or_fetch_content(tileset.root_uri)\n",
    "    print(f\"The tile {tile.content_uri} has a content of {type(tile_content)} type\")\n",
    "    print(f\"with this bounding volume: {tile.bounding_volume.to_dict()}\")\n",
    "\n"
   ]
  },
  {
   "cell_type": "markdown",
   "metadata": {},
   "source": [
    "## 6 RasterRelief 解析"
   ]
  },
  {
   "cell_type": "markdown",
   "metadata": {},
   "source": [
    "### 6.1 重投影"
   ]
  },
  {
   "cell_type": "code",
   "execution_count": null,
   "metadata": {},
   "outputs": [],
   "source": [
    "options = \"-of GTiff -s_srs EPSG:4978 -t_srs EPSG:4326\"\n",
    "gdal.Warp('/home/program/3dsim/data/rasterrelief/out.tif', '/home/program/3dsim/data/rasterrelief/DTM_e36n31_TINRelief_4978.tif', options=options)"
   ]
  },
  {
   "cell_type": "markdown",
   "metadata": {},
   "source": [
    "### 6.2 RasterRelief 查询测试"
   ]
  },
  {
   "cell_type": "code",
   "execution_count": null,
   "metadata": {},
   "outputs": [],
   "source": [
    "query  = Query()\n",
    "query_result = query.query_modelAsset(product=['RasterRelief','PointCloud','PhysicalField', '3DMesh'], \n",
    "         spatialExtent= [-180, -90, 180, 90],\n",
    "         timeSpan= ['19000101', '20990101'], \n",
    "         feature= ['Mountain','WaterBody','Relief','SnowArea','Ocean','PhysicalField','AgriculturalArea','WaterFacility','TransportationFacility','Building','Pipeline','Courtyard','ArtificialLandform'], \n",
    "         viewedRange= [0,9999999])"
   ]
  },
  {
   "cell_type": "markdown",
   "metadata": {},
   "source": [
    "### 6.3 RasterRelief 删除测试"
   ]
  },
  {
   "cell_type": "markdown",
   "metadata": {},
   "source": []
  },
  {
   "cell_type": "code",
   "execution_count": null,
   "metadata": {},
   "outputs": [],
   "source": [
    "remove = Remove()\n",
    "remove_result = remove.remove_modelAsset(product=['RasterRelief','PointCloud','PhysicalField', '3DMesh'], \n",
    "         spatialExtent= [-180, -90, 180, 90],\n",
    "         timeSpan= ['19000101', '20990101'], \n",
    "         feature= ['Mountain','WaterBody','Relief','SnowArea','Ocean','PhysicalField','AgriculturalArea','WaterFacility','TransportationFacility','Building','Pipeline','Courtyard','ArtificialLandform'], \n",
    "         viewedRange= [0,9999999])"
   ]
  },
  {
   "cell_type": "markdown",
   "metadata": {},
   "source": [
    "### 6.4 gdal2tiles 切瓦片"
   ]
  },
  {
   "cell_type": "code",
   "execution_count": null,
   "metadata": {},
   "outputs": [],
   "source": [
    "# 将数据格式转为BYTE, 并将值域映射到0-255\n",
    "options = f\"-ot Byte \" \\\n",
    "          f\"-scale 0 380 0 255 \" \\\n",
    "          \n",
    "translate_options = gdal.TranslateOptions(options=options)\n",
    "gdal.Translate(\"/home/program/3dsim/data/rasterrelief/renhuai_gpp_202001_after.tif\", \"/home/program/3dsim/data/rasterrelief/renhuai_gpp_202001.tif\", options=translate_options)\n",
    "\n",
    "options = { \n",
    "    'zoom':(0,8),\n",
    "    'tile_size': 256,\n",
    "    's_srs': \"EPSG:4326\",\n",
    "}\n",
    "gdal2tiles.generate_tiles('/home/program/3dsim/data/rasterrelief/renhuai_gpp_202001_after.tif','/home/program/3dsim/data/rasterrelief/test/', **options)"
   ]
  },
  {
   "cell_type": "markdown",
   "metadata": {},
   "source": [
    "# 7 osgb转3dtiles"
   ]
  },
  {
   "cell_type": "code",
   "execution_count": null,
   "metadata": {},
   "outputs": [],
   "source": [
    "command = 'docker run --rm -v /home/program/3dsim/data/osg:/data winner1/3dtiles:1.0 /bin/bash -c \"cd /3dtiles && export LD_LIBRARY_PATH=./lib && ./target/release/_3dtile --format osgb --input /data/osgb --output /test/3dtiles\"'\n",
    "result = os.system(command)\n",
    "print(result)"
   ]
  }
 ],
 "metadata": {
  "kernelspec": {
   "display_name": "3dsim",
   "language": "python",
   "name": "python3"
  },
  "language_info": {
   "codemirror_mode": {
    "name": "ipython",
    "version": 3
   },
   "file_extension": ".py",
   "mimetype": "text/x-python",
   "name": "python",
   "nbconvert_exporter": "python",
   "pygments_lexer": "ipython3",
   "version": "3.11.0"
  }
 },
 "nbformat": 4,
 "nbformat_minor": 2
}
